{
 "cells": [
  {
   "cell_type": "markdown",
   "id": "617182d0-196e-448b-a2c9-16ed4f9cba2a",
   "metadata": {},
   "source": [
    "## Sentiment Analysis \n",
    "\n",
    "### Using the IMDb review dataset to train a model for sentiment analysis"
   ]
  },
  {
   "cell_type": "code",
   "execution_count": null,
   "id": "7b2c8df6-537f-4e9f-bd36-8c9663b32afd",
   "metadata": {},
   "outputs": [],
   "source": []
  },
  {
   "cell_type": "code",
   "execution_count": 1,
   "id": "3f63c840-d12f-433c-ae6e-4f5ce8c64a70",
   "metadata": {
    "editable": true,
    "slideshow": {
     "slide_type": ""
    },
    "tags": []
   },
   "outputs": [
    {
     "name": "stderr",
     "output_type": "stream",
     "text": [
      "2025-03-22 17:35:34.819327: I external/local_xla/xla/tsl/cuda/cudart_stub.cc:32] Could not find cuda drivers on your machine, GPU will not be used.\n",
      "2025-03-22 17:35:34.824363: I external/local_xla/xla/tsl/cuda/cudart_stub.cc:32] Could not find cuda drivers on your machine, GPU will not be used.\n",
      "2025-03-22 17:35:34.838511: E external/local_xla/xla/stream_executor/cuda/cuda_fft.cc:467] Unable to register cuFFT factory: Attempting to register factory for plugin cuFFT when one has already been registered\n",
      "WARNING: All log messages before absl::InitializeLog() is called are written to STDERR\n",
      "E0000 00:00:1742661334.862913    6923 cuda_dnn.cc:8579] Unable to register cuDNN factory: Attempting to register factory for plugin cuDNN when one has already been registered\n",
      "E0000 00:00:1742661334.869943    6923 cuda_blas.cc:1407] Unable to register cuBLAS factory: Attempting to register factory for plugin cuBLAS when one has already been registered\n",
      "W0000 00:00:1742661334.888955    6923 computation_placer.cc:177] computation placer already registered. Please check linkage and avoid linking the same target more than once.\n",
      "W0000 00:00:1742661334.888977    6923 computation_placer.cc:177] computation placer already registered. Please check linkage and avoid linking the same target more than once.\n",
      "W0000 00:00:1742661334.888980    6923 computation_placer.cc:177] computation placer already registered. Please check linkage and avoid linking the same target more than once.\n",
      "W0000 00:00:1742661334.888982    6923 computation_placer.cc:177] computation placer already registered. Please check linkage and avoid linking the same target more than once.\n",
      "2025-03-22 17:35:34.895446: I tensorflow/core/platform/cpu_feature_guard.cc:210] This TensorFlow binary is optimized to use available CPU instructions in performance-critical operations.\n",
      "To enable the following instructions: AVX2 FMA, in other operations, rebuild TensorFlow with the appropriate compiler flags.\n"
     ]
    }
   ],
   "source": [
    "import tensorflow_datasets as tfds\n",
    "import tensorflow as tf"
   ]
  },
  {
   "cell_type": "code",
   "execution_count": 2,
   "id": "03395e1a-21cd-41d5-8842-36c27625262f",
   "metadata": {},
   "outputs": [
    {
     "name": "stderr",
     "output_type": "stream",
     "text": [
      "2025-03-22 17:35:38.168840: E external/local_xla/xla/stream_executor/cuda/cuda_platform.cc:51] failed call to cuInit: INTERNAL: CUDA error: Failed call to cuInit: UNKNOWN ERROR (303)\n"
     ]
    }
   ],
   "source": [
    "datasets, info = tfds.load(\"imdb_reviews\", as_supervised=True, with_info=True)"
   ]
  },
  {
   "cell_type": "code",
   "execution_count": null,
   "id": "3726f51b-a0ed-4d0a-b7db-9be94e0bf7c0",
   "metadata": {},
   "outputs": [],
   "source": []
  },
  {
   "cell_type": "code",
   "execution_count": 3,
   "id": "11e6514d-63de-44c6-a1e2-a35b55129d7c",
   "metadata": {},
   "outputs": [],
   "source": [
    "from src.review_learn import create_train_test_val, load_glove_embeddings"
   ]
  },
  {
   "cell_type": "code",
   "execution_count": 33,
   "id": "0d0c58a4-1591-44dd-bc5a-88b943da390f",
   "metadata": {},
   "outputs": [],
   "source": [
    "train_set, test_set, val_set = create_train_test_val(datasets, validation_fraction=0.1)"
   ]
  },
  {
   "cell_type": "code",
   "execution_count": 34,
   "id": "315b5e48-c1da-4d6b-85bd-49128c90dada",
   "metadata": {},
   "outputs": [],
   "source": [
    "from src.review_stats import print_stats_of_texts, print_text_stats, TextStatisticUtils"
   ]
  },
  {
   "cell_type": "code",
   "execution_count": 35,
   "id": "ebd069f2-821a-4eab-ae0a-b4f9b0ac799c",
   "metadata": {},
   "outputs": [
    {
     "data": {
      "text/plain": [
       "<_TakeDataset element_spec=(TensorSpec(shape=(), dtype=tf.string, name=None), TensorSpec(shape=(), dtype=tf.int64, name=None))>"
      ]
     },
     "execution_count": 35,
     "metadata": {},
     "output_type": "execute_result"
    }
   ],
   "source": [
    "train_set"
   ]
  },
  {
   "cell_type": "code",
   "execution_count": 36,
   "id": "5857be5b-ce97-4de3-b2e8-82b1a6ab9c27",
   "metadata": {},
   "outputs": [],
   "source": [
    "from src.lookup_table_creator import LookupTableCreator"
   ]
  },
  {
   "cell_type": "code",
   "execution_count": 37,
   "id": "d48e4177-be9b-4a20-aae2-8090bf4b1db7",
   "metadata": {},
   "outputs": [],
   "source": [
    "table_creator = LookupTableCreator()"
   ]
  },
  {
   "cell_type": "code",
   "execution_count": 38,
   "id": "aef1f050-7685-405d-b811-97032048a731",
   "metadata": {},
   "outputs": [],
   "source": [
    "table = table_creator.create_lookup_table(train_set, 10000, 1000, 32)"
   ]
  },
  {
   "cell_type": "code",
   "execution_count": 10,
   "id": "0b14ac59-dfa7-4318-9246-ef7f76a68a7d",
   "metadata": {},
   "outputs": [],
   "source": [
    "from src.text_preprocessing import ReviewPreprocessor"
   ]
  },
  {
   "cell_type": "code",
   "execution_count": 39,
   "id": "69f4c949-eff7-473c-8873-bf60937c6f2b",
   "metadata": {},
   "outputs": [],
   "source": [
    "preprocessor = ReviewPreprocessor(10000, 1000, table, batch_size=32, maxlen=200)"
   ]
  },
  {
   "cell_type": "code",
   "execution_count": 40,
   "id": "899ab439-e30b-49d7-96c7-6b1d69c67e88",
   "metadata": {},
   "outputs": [],
   "source": [
    "#embeddings = load_glove_embeddings('embeddings/glove.6B.100d.txt', tf.keras.datasets.imdb.get_word_index(), vocab_size=10000, embed_size=128, num_oov_buckets=1000)"
   ]
  },
  {
   "cell_type": "code",
   "execution_count": 57,
   "id": "205c55ff-96eb-4203-b827-e6a466119a8a",
   "metadata": {},
   "outputs": [],
   "source": [
    "train_data, test_data, validation_data = preprocessor.prepare_data_set(train_set), preprocessor.prepare_data_set(test_set), preprocessor.prepare_data_set(val_set)"
   ]
  },
  {
   "cell_type": "code",
   "execution_count": 42,
   "id": "f4395237-f111-419f-a462-e293d7a8d539",
   "metadata": {},
   "outputs": [],
   "source": [
    "reviewStats = TextStatisticUtils(train_set=train_set, test_set=test_set, val_set=val_set)"
   ]
  },
  {
   "cell_type": "code",
   "execution_count": 43,
   "id": "a6903b0b-ef80-48f3-90a8-c8a2b7fa3e92",
   "metadata": {},
   "outputs": [
    {
     "name": "stdout",
     "output_type": "stream",
     "text": [
      "Statistics of Train Data: \n",
      "    | Average text length: 1325.5106666666666 \n",
      "    | Median text length: 980.0\n",
      "    | Minimum text length: 52\n",
      "    | Maximum text length: 13704\n",
      "     \n",
      "Statistics of Test Data: \n",
      "    | Average text length: 1293.7924 \n",
      "    | Median text length: 962.0\n",
      "    | Minimum text length: 32\n",
      "    | Maximum text length: 12988\n",
      "     \n",
      "Statistics of Validation Data: \n",
      "    | Average text length: 1321.1004 \n",
      "    | Median text length: 967.0\n",
      "    | Minimum text length: 120\n",
      "    | Maximum text length: 8754\n",
      "     \n"
     ]
    }
   ],
   "source": [
    "reviewStats.print_all_text_stats()"
   ]
  },
  {
   "cell_type": "code",
   "execution_count": 44,
   "id": "fee08a2f-1631-4412-8db2-cbbb1f624b8e",
   "metadata": {},
   "outputs": [],
   "source": [
    "#reviewStats.draw_class_dists()"
   ]
  },
  {
   "cell_type": "code",
   "execution_count": 58,
   "id": "06652e7d-fd64-45d0-b25d-f94e47b77cc5",
   "metadata": {},
   "outputs": [
    {
     "name": "stdout",
     "output_type": "stream",
     "text": [
      "(32, 200)\n"
     ]
    }
   ],
   "source": [
    "for x_batch, y_batch in train_data.take(1):\n",
    "    print(f\"{x_batch.shape}\")"
   ]
  },
  {
   "cell_type": "code",
   "execution_count": 46,
   "id": "c94e658f-7cc8-4477-80eb-e6a23764a076",
   "metadata": {},
   "outputs": [],
   "source": [
    "# Attention Layer Definition\n",
    "class Attention(tf.keras.layers.Layer):\n",
    "    def __init__(self):\n",
    "        super(Attention, self).__init__()\n",
    "\n",
    "    def call(self, inputs):\n",
    "        # Energie-Werte berechnen (Dot-Produkt der Inputs mit sich selbst)\n",
    "        score = tf.matmul(inputs, inputs, transpose_b=True)\n",
    "        \n",
    "        # Softmax über die Scores zur Normalisierung\n",
    "        attention_weights = tf.nn.softmax(score, axis=-1)\n",
    "        \n",
    "        # Kontextvektor als gewichtete Summe der Eingaben\n",
    "        context_vector = tf.matmul(attention_weights, inputs)\n",
    "        \n",
    "        return context_vector"
   ]
  },
  {
   "cell_type": "code",
   "execution_count": 71,
   "id": "d41309a4-5acb-48eb-ab4f-625aba677f5d",
   "metadata": {},
   "outputs": [],
   "source": [
    "from tensorflow.keras.regularizers import l2\n",
    "\n",
    "\n",
    "def build_model(n_hidden=2, embed_size=128, vocab_size=10000, num_oov_buckets=1000, dropout_rate=0.3, embedding_matrix=None):\n",
    "    model = tf.keras.models.Sequential()\n",
    "\n",
    "    model.add(tf.keras.layers.Embedding(input_dim=vocab_size + num_oov_buckets, output_dim=embed_size))\n",
    "    # 1D Convolutional Layer (Extrahiert lokale Merkmale)\n",
    "    model.add(tf.keras.layers.Conv1D(filters=64, kernel_size=5, activation=\"relu\", padding=\"same\"))\n",
    "    ##model.add(tf.keras.layers.BatchNormalization())\n",
    "    model.add(tf.keras.layers.MaxPooling1D(pool_size=2))\n",
    "    for hidden in range(n_hidden):\n",
    "        model.add(\n",
    "            tf.keras.layers.Bidirectional(tf.keras.layers.GRU(128, return_sequences=True, dropout=dropout_rate)))\n",
    "    model.add(tf.keras.layers.Bidirectional(tf.keras.layers.GRU(64)))\n",
    "    \n",
    "    # Attention Layer\n",
    "    #model.add(Attention())\n",
    "    #model.add(tf.keras.layers.GlobalAveragePooling1D())\n",
    "    \n",
    "    model.add(tf.keras.layers.Dropout(dropout_rate))\n",
    "    model.add(tf.keras.layers.Dense(64, activation=\"relu\", kernel_regularizer=l2(0.001)))\n",
    "    model.add(tf.keras.layers.Dense(1, activation=\"sigmoid\"))\n",
    "    model.compile(loss=\"binary_crossentropy\", optimizer=tf.keras.optimizers.Adam(learning_rate=0.001),\n",
    "                  metrics=[\"accuracy\"])\n",
    "    return model"
   ]
  },
  {
   "cell_type": "code",
   "execution_count": 72,
   "id": "adb4cde6-80c5-4aa4-b34d-2de23e19aacc",
   "metadata": {},
   "outputs": [],
   "source": [
    "lr_scheduler = tf.keras.callbacks.ReduceLROnPlateau(monitor=\"val_loss\", factor=0.5, patience=2)"
   ]
  },
  {
   "cell_type": "code",
   "execution_count": 73,
   "id": "d09d7d8f-ea8e-44e5-aba3-b12f2c7843b8",
   "metadata": {},
   "outputs": [],
   "source": [
    "model = build_model(n_hidden=1, vocab_size=10000, num_oov_buckets=1000, embed_size=128, embedding_matrix=embeddings, dropout_rate=0.6)"
   ]
  },
  {
   "cell_type": "code",
   "execution_count": 74,
   "id": "ac23b3e0-c88d-4bce-aca4-89b53440ae20",
   "metadata": {},
   "outputs": [
    {
     "name": "stdout",
     "output_type": "stream",
     "text": [
      "Epoch 1/15\n",
      "\u001b[1m704/704\u001b[0m \u001b[32m━━━━━━━━━━━━━━━━━━━━\u001b[0m\u001b[37m\u001b[0m \u001b[1m187s\u001b[0m 228ms/step - accuracy: 0.6232 - loss: 0.6596 - val_accuracy: 0.8700 - val_loss: 0.3473 - learning_rate: 0.0010\n",
      "Epoch 2/15\n",
      "\u001b[1m704/704\u001b[0m \u001b[32m━━━━━━━━━━━━━━━━━━━━\u001b[0m\u001b[37m\u001b[0m \u001b[1m158s\u001b[0m 224ms/step - accuracy: 0.8687 - loss: 0.3354 - val_accuracy: 0.8680 - val_loss: 0.3291 - learning_rate: 0.0010\n",
      "Epoch 3/15\n",
      "\u001b[1m704/704\u001b[0m \u001b[32m━━━━━━━━━━━━━━━━━━━━\u001b[0m\u001b[37m\u001b[0m \u001b[1m159s\u001b[0m 225ms/step - accuracy: 0.9136 - loss: 0.2332 - val_accuracy: 0.8596 - val_loss: 0.4218 - learning_rate: 0.0010\n",
      "Epoch 4/15\n",
      "\u001b[1m704/704\u001b[0m \u001b[32m━━━━━━━━━━━━━━━━━━━━\u001b[0m\u001b[37m\u001b[0m \u001b[1m158s\u001b[0m 223ms/step - accuracy: 0.9420 - loss: 0.1613 - val_accuracy: 0.8516 - val_loss: 0.4568 - learning_rate: 0.0010\n",
      "Epoch 5/15\n",
      "\u001b[1m704/704\u001b[0m \u001b[32m━━━━━━━━━━━━━━━━━━━━\u001b[0m\u001b[37m\u001b[0m \u001b[1m157s\u001b[0m 223ms/step - accuracy: 0.9677 - loss: 0.0971 - val_accuracy: 0.8552 - val_loss: 0.5598 - learning_rate: 5.0000e-04\n",
      "Epoch 6/15\n",
      "\u001b[1m704/704\u001b[0m \u001b[32m━━━━━━━━━━━━━━━━━━━━\u001b[0m\u001b[37m\u001b[0m \u001b[1m157s\u001b[0m 223ms/step - accuracy: 0.9859 - loss: 0.0528 - val_accuracy: 0.8580 - val_loss: 0.6204 - learning_rate: 5.0000e-04\n",
      "Epoch 7/15\n",
      "\u001b[1m704/704\u001b[0m \u001b[32m━━━━━━━━━━━━━━━━━━━━\u001b[0m\u001b[37m\u001b[0m \u001b[1m158s\u001b[0m 224ms/step - accuracy: 0.9928 - loss: 0.0304 - val_accuracy: 0.8556 - val_loss: 0.6688 - learning_rate: 2.5000e-04\n"
     ]
    }
   ],
   "source": [
    "history = model.fit(train_data, validation_data=validation_data, epochs=15, callbacks=[tf.keras.callbacks.ModelCheckpoint('sentiment_model.keras', save_best_only=True), \n",
    "                                                                                      tf.keras.callbacks.EarlyStopping(patience=5, restore_best_weights=True),\n",
    "                                                                                lr_scheduler])"
   ]
  },
  {
   "cell_type": "code",
   "execution_count": null,
   "id": "f0f399cc-105f-4d06-8d16-1ea1185fd07f",
   "metadata": {},
   "outputs": [],
   "source": []
  },
  {
   "cell_type": "code",
   "execution_count": 75,
   "id": "d124eadd-caed-4982-b6be-95b1869d5e3b",
   "metadata": {},
   "outputs": [],
   "source": [
    "import matplotlib.pyplot as plt"
   ]
  },
  {
   "cell_type": "code",
   "execution_count": 76,
   "id": "4ddb371c-2a99-483d-9460-1c718ee22364",
   "metadata": {},
   "outputs": [
    {
     "data": {
      "image/png": "[encoded data removed]",
      "text/plain": [
       "<Figure size 640x480 with 1 Axes>"
      ]
     },
     "metadata": {},
     "output_type": "display_data"
    }
   ],
   "source": [
    "accuracy, val_accuracy, loss, val_loss = history.history[\"accuracy\"], history.history[\"val_accuracy\"], history.history[\"loss\"], history.history[\"val_loss\"]\n",
    "plt.plot(accuracy, label='accuracy')\n",
    "plt.plot(val_accuracy, label=\"val_accuracy\")\n",
    "plt.plot(loss, label=\"loss\")\n",
    "plt.plot(val_loss, label=\"val_loss\")\n",
    "plt.xlabel('Epoch')\n",
    "plt.ylabel('Accuracy')\n",
    "plt.legend()\n",
    "plt.title('Accuracy history during training')\n",
    "plt.show()"
   ]
  },
  {
   "cell_type": "code",
   "execution_count": null,
   "id": "7de0d36e-33d8-4deb-b7cb-15c6fe90f5eb",
   "metadata": {},
   "outputs": [
    {
     "name": "stdout",
     "output_type": "stream",
     "text": [
      "\u001b[1m214/782\u001b[0m \u001b[32m━━━━━\u001b[0m\u001b[37m━━━━━━━━━━━━━━━\u001b[0m \u001b[1m31s\u001b[0m 56ms/step - accuracy: 0.8498 - loss: 0.3758"
     ]
    }
   ],
   "source": [
    "model.evaluate(test_data)    "
   ]
  },
  {
   "cell_type": "markdown",
   "id": "46db3e65-e29d-4636-b21f-3b4235407176",
   "metadata": {},
   "source": [
    "## "
   ]
  },
  {
   "cell_type": "code",
   "execution_count": 31,
   "id": "f4ba2fc5-2d6e-4b2f-b9f3-09eb30fc64c1",
   "metadata": {},
   "outputs": [
    {
     "name": "stdout",
     "output_type": "stream",
     "text": [
      "\u001b[1m782/782\u001b[0m \u001b[32m━━━━━━━━━━━━━━━━━━━━\u001b[0m\u001b[37m\u001b[0m \u001b[1m51s\u001b[0m 66ms/step - accuracy: 0.7725 - loss: 0.5090\n",
      "\n",
      "Test Accuracy: 0.7708\n",
      "Test Loss: 0.5106\n"
     ]
    },
    {
     "ename": "ModuleNotFoundError",
     "evalue": "No module named 'sklearn'",
     "output_type": "error",
     "traceback": [
      "\u001b[0;31m---------------------------------------------------------------------------\u001b[0m",
      "\u001b[0;31mModuleNotFoundError\u001b[0m                       Traceback (most recent call last)",
      "Cell \u001b[0;32mIn[31], line 6\u001b[0m\n\u001b[1;32m      3\u001b[0m \u001b[38;5;28mprint\u001b[39m(\u001b[38;5;124mf\u001b[39m\u001b[38;5;124m\"\u001b[39m\u001b[38;5;130;01m\\n\u001b[39;00m\u001b[38;5;124mTest Accuracy: \u001b[39m\u001b[38;5;132;01m{\u001b[39;00mtest_acc\u001b[38;5;132;01m:\u001b[39;00m\u001b[38;5;124m.4f\u001b[39m\u001b[38;5;132;01m}\u001b[39;00m\u001b[38;5;124m\"\u001b[39m)\n\u001b[1;32m      4\u001b[0m \u001b[38;5;28mprint\u001b[39m(\u001b[38;5;124mf\u001b[39m\u001b[38;5;124m\"\u001b[39m\u001b[38;5;124mTest Loss: \u001b[39m\u001b[38;5;132;01m{\u001b[39;00mtest_loss\u001b[38;5;132;01m:\u001b[39;00m\u001b[38;5;124m.4f\u001b[39m\u001b[38;5;132;01m}\u001b[39;00m\u001b[38;5;124m\"\u001b[39m)\n\u001b[0;32m----> 6\u001b[0m \u001b[38;5;28;01mfrom\u001b[39;00m\u001b[38;5;250m \u001b[39m\u001b[38;5;21;01msklearn\u001b[39;00m\u001b[38;5;21;01m.\u001b[39;00m\u001b[38;5;21;01mmetrics\u001b[39;00m\u001b[38;5;250m \u001b[39m\u001b[38;5;28;01mimport\u001b[39;00m confusion_matrix, classification_report\n\u001b[1;32m      7\u001b[0m \u001b[38;5;66;03m# Confusion Matrix\u001b[39;00m\n\u001b[1;32m      8\u001b[0m y_pred \u001b[38;5;241m=\u001b[39m (model\u001b[38;5;241m.\u001b[39mpredict(test_data) \u001b[38;5;241m>\u001b[39m \u001b[38;5;241m0.5\u001b[39m)\u001b[38;5;241m.\u001b[39mastype(\u001b[38;5;124m\"\u001b[39m\u001b[38;5;124mint32\u001b[39m\u001b[38;5;124m\"\u001b[39m)\n",
      "\u001b[0;31mModuleNotFoundError\u001b[0m: No module named 'sklearn'"
     ]
    }
   ],
   "source": [
    "# Test set evaluation\n",
    "test_loss, test_acc = model.evaluate(test_data)\n",
    "print(f\"\\nTest Accuracy: {test_acc:.4f}\")\n",
    "print(f\"Test Loss: {test_loss:.4f}\")\n",
    "\n",
    "from sklearn.metrics import confusion_matrix, classification_report\n",
    "# Confusion Matrix\n",
    "y_pred = (model.predict(test_data) > 0.5).astype(\"int32\")\n",
    "cm = confusion_matrix(test_data, y_pred)\n",
    "sns.heatmap(cm, annot=True, fmt='d', cmap='Blues')\n",
    "plt.xlabel('Predicted')\n",
    "plt.ylabel('Actual')\n",
    "plt.title('Confusion Matrix')\n",
    "plt.show()\n",
    "\n",
    "print(\"\\nClassification Report:\")\n",
    "print(classification_report(y_test, y_pred))"
   ]
  },
  {
   "cell_type": "code",
   "execution_count": 20,
   "id": "6a8db3c3-64a2-4f4b-8183-9dccee68fd71",
   "metadata": {},
   "outputs": [
    {
     "name": "stderr",
     "output_type": "stream",
     "text": [
      "Some weights of the PyTorch model were not used when initializing the TF 2.0 model TFBertModel: ['cls.predictions.transform.dense.weight', 'cls.seq_relationship.bias', 'cls.predictions.transform.LayerNorm.bias', 'cls.predictions.transform.LayerNorm.weight', 'cls.predictions.transform.dense.bias', 'cls.seq_relationship.weight', 'cls.predictions.bias']\n",
      "- This IS expected if you are initializing TFBertModel from a PyTorch model trained on another task or with another architecture (e.g. initializing a TFBertForSequenceClassification model from a BertForPreTraining model).\n",
      "- This IS NOT expected if you are initializing TFBertModel from a PyTorch model that you expect to be exactly identical (e.g. initializing a TFBertForSequenceClassification model from a BertForSequenceClassification model).\n",
      "All the weights of TFBertModel were initialized from the PyTorch model.\n",
      "If your task is similar to the task the model of the checkpoint was trained on, you can already use TFBertModel for predictions without further training.\n"
     ]
    },
    {
     "ename": "NotImplementedError",
     "evalue": "Exception encountered when calling Lambda.call().\n\n\u001b[1mWe could not automatically infer the shape of the Lambda's output. Please specify the `output_shape` argument for this Lambda layer.\u001b[0m\n\nArguments received by Lambda.call():\n  • args=(['<KerasTensor shape=(None, 128), dtype=int32, sparse=False, name=input_ids>', '<KerasTensor shape=(None, 128), dtype=int32, sparse=False, name=attention_mask>'],)\n  • kwargs={'mask': ['None', 'None']}",
     "output_type": "error",
     "traceback": [
      "\u001b[0;31m---------------------------------------------------------------------------\u001b[0m",
      "\u001b[0;31mNotImplementedError\u001b[0m                       Traceback (most recent call last)",
      "Cell \u001b[0;32mIn[20], line 48\u001b[0m\n\u001b[1;32m     45\u001b[0m     \u001b[38;5;28;01mreturn\u001b[39;00m model\n\u001b[1;32m     47\u001b[0m \u001b[38;5;66;03m# Modell erstellen\u001b[39;00m\n\u001b[0;32m---> 48\u001b[0m model \u001b[38;5;241m=\u001b[39m \u001b[43mbuild_bert_model\u001b[49m\u001b[43m(\u001b[49m\u001b[43m)\u001b[49m\n\u001b[1;32m     49\u001b[0m model\u001b[38;5;241m.\u001b[39msummary()\n",
      "Cell \u001b[0;32mIn[20], line 31\u001b[0m, in \u001b[0;36mbuild_bert_model\u001b[0;34m()\u001b[0m\n\u001b[1;32m     28\u001b[0m attention_mask \u001b[38;5;241m=\u001b[39m tf\u001b[38;5;241m.\u001b[39mkeras\u001b[38;5;241m.\u001b[39mlayers\u001b[38;5;241m.\u001b[39mInput(shape\u001b[38;5;241m=\u001b[39m(max_length,), dtype\u001b[38;5;241m=\u001b[39mtf\u001b[38;5;241m.\u001b[39mint32, name\u001b[38;5;241m=\u001b[39m\u001b[38;5;124m\"\u001b[39m\u001b[38;5;124mattention_mask\u001b[39m\u001b[38;5;124m\"\u001b[39m)\n\u001b[1;32m     30\u001b[0m \u001b[38;5;66;03m# Kapselung der BERT-Schicht in eine Lambda-Schicht\u001b[39;00m\n\u001b[0;32m---> 31\u001b[0m bert_output \u001b[38;5;241m=\u001b[39m \u001b[43mtf\u001b[49m\u001b[38;5;241;43m.\u001b[39;49m\u001b[43mkeras\u001b[49m\u001b[38;5;241;43m.\u001b[39;49m\u001b[43mlayers\u001b[49m\u001b[38;5;241;43m.\u001b[39;49m\u001b[43mLambda\u001b[49m\u001b[43m(\u001b[49m\u001b[38;5;28;43;01mlambda\u001b[39;49;00m\u001b[43m \u001b[49m\u001b[43mx\u001b[49m\u001b[43m:\u001b[49m\u001b[43m \u001b[49m\u001b[43mbert_base\u001b[49m\u001b[43m(\u001b[49m\u001b[43minput_ids\u001b[49m\u001b[38;5;241;43m=\u001b[39;49m\u001b[43mx\u001b[49m\u001b[43m[\u001b[49m\u001b[38;5;241;43m0\u001b[39;49m\u001b[43m]\u001b[49m\u001b[43m,\u001b[49m\u001b[43m \u001b[49m\u001b[43mattention_mask\u001b[49m\u001b[38;5;241;43m=\u001b[39;49m\u001b[43mx\u001b[49m\u001b[43m[\u001b[49m\u001b[38;5;241;43m1\u001b[39;49m\u001b[43m]\u001b[49m\u001b[43m)\u001b[49m\u001b[43m)\u001b[49m\u001b[43m(\u001b[49m\u001b[43m[\u001b[49m\u001b[43minput_ids\u001b[49m\u001b[43m,\u001b[49m\u001b[43m \u001b[49m\u001b[43mattention_mask\u001b[49m\u001b[43m]\u001b[49m\u001b[43m)\u001b[49m\n\u001b[1;32m     33\u001b[0m pooled_output \u001b[38;5;241m=\u001b[39m bert_output\u001b[38;5;241m.\u001b[39mpooler_output  \u001b[38;5;66;03m# Verdichtete Repräsentation\u001b[39;00m\n\u001b[1;32m     35\u001b[0m \u001b[38;5;66;03m# Dichte Schicht für Klassifikation\u001b[39;00m\n",
      "File \u001b[0;32m~/my-venv/lib/python3.12/site-packages/keras/src/utils/traceback_utils.py:122\u001b[0m, in \u001b[0;36mfilter_traceback.<locals>.error_handler\u001b[0;34m(*args, **kwargs)\u001b[0m\n\u001b[1;32m    119\u001b[0m     filtered_tb \u001b[38;5;241m=\u001b[39m _process_traceback_frames(e\u001b[38;5;241m.\u001b[39m__traceback__)\n\u001b[1;32m    120\u001b[0m     \u001b[38;5;66;03m# To get the full stack trace, call:\u001b[39;00m\n\u001b[1;32m    121\u001b[0m     \u001b[38;5;66;03m# `keras.config.disable_traceback_filtering()`\u001b[39;00m\n\u001b[0;32m--> 122\u001b[0m     \u001b[38;5;28;01mraise\u001b[39;00m e\u001b[38;5;241m.\u001b[39mwith_traceback(filtered_tb) \u001b[38;5;28;01mfrom\u001b[39;00m\u001b[38;5;250m \u001b[39m\u001b[38;5;28;01mNone\u001b[39;00m\n\u001b[1;32m    123\u001b[0m \u001b[38;5;28;01mfinally\u001b[39;00m:\n\u001b[1;32m    124\u001b[0m     \u001b[38;5;28;01mdel\u001b[39;00m filtered_tb\n",
      "File \u001b[0;32m~/my-venv/lib/python3.12/site-packages/keras/src/layers/core/lambda_layer.py:95\u001b[0m, in \u001b[0;36mLambda.compute_output_shape\u001b[0;34m(self, input_shape)\u001b[0m\n\u001b[1;32m     93\u001b[0m         \u001b[38;5;28;01mreturn\u001b[39;00m tree\u001b[38;5;241m.\u001b[39mmap_structure(\u001b[38;5;28;01mlambda\u001b[39;00m x: x\u001b[38;5;241m.\u001b[39mshape, output_spec)\n\u001b[1;32m     94\u001b[0m     \u001b[38;5;28;01mexcept\u001b[39;00m:\n\u001b[0;32m---> 95\u001b[0m         \u001b[38;5;28;01mraise\u001b[39;00m \u001b[38;5;167;01mNotImplementedError\u001b[39;00m(\n\u001b[1;32m     96\u001b[0m             \u001b[38;5;124m\"\u001b[39m\u001b[38;5;124mWe could not automatically infer the shape of \u001b[39m\u001b[38;5;124m\"\u001b[39m\n\u001b[1;32m     97\u001b[0m             \u001b[38;5;124m\"\u001b[39m\u001b[38;5;124mthe Lambda\u001b[39m\u001b[38;5;124m'\u001b[39m\u001b[38;5;124ms output. Please specify the `output_shape` \u001b[39m\u001b[38;5;124m\"\u001b[39m\n\u001b[1;32m     98\u001b[0m             \u001b[38;5;124m\"\u001b[39m\u001b[38;5;124margument for this Lambda layer.\u001b[39m\u001b[38;5;124m\"\u001b[39m\n\u001b[1;32m     99\u001b[0m         )\n\u001b[1;32m    101\u001b[0m \u001b[38;5;28;01mif\u001b[39;00m \u001b[38;5;28mcallable\u001b[39m(\u001b[38;5;28mself\u001b[39m\u001b[38;5;241m.\u001b[39m_output_shape):\n\u001b[1;32m    102\u001b[0m     \u001b[38;5;28;01mreturn\u001b[39;00m \u001b[38;5;28mself\u001b[39m\u001b[38;5;241m.\u001b[39m_output_shape(input_shape)\n",
      "\u001b[0;31mNotImplementedError\u001b[0m: Exception encountered when calling Lambda.call().\n\n\u001b[1mWe could not automatically infer the shape of the Lambda's output. Please specify the `output_shape` argument for this Lambda layer.\u001b[0m\n\nArguments received by Lambda.call():\n  • args=(['<KerasTensor shape=(None, 128), dtype=int32, sparse=False, name=input_ids>', '<KerasTensor shape=(None, 128), dtype=int32, sparse=False, name=attention_mask>'],)\n  • kwargs={'mask': ['None', 'None']}"
     ]
    }
   ],
   "source": [
    "import tensorflow as tf\n",
    "from transformers import TFBertModel, BertTokenizer\n",
    "\n",
    "# Parameter\n",
    "model_name = \"bert-base-uncased\"  # Kleinere Version von BERT\n",
    "max_length = 128  # Maximale Tokenanzahl pro Satz\n",
    "\n",
    "# Tokenizer laden\n",
    "tokenizer = BertTokenizer.from_pretrained(model_name)\n",
    "\n",
    "# Beispielhafte Tokenisierung\n",
    "def encode(texts):\n",
    "    return tokenizer(\n",
    "        texts,\n",
    "        padding=\"max_length\",\n",
    "        truncation=True,\n",
    "        max_length=max_length,\n",
    "        return_tensors=\"tf\"\n",
    "    )\n",
    "\n",
    "# BERT-Modellaufbau\n",
    "def build_bert_model():\n",
    "    # BERT als Basismodell laden\n",
    "    bert_base = TFBertModel.from_pretrained(model_name)\n",
    "\n",
    "    # Eingabe\n",
    "    input_ids = tf.keras.layers.Input(shape=(max_length,), dtype=tf.int32, name=\"input_ids\")\n",
    "    attention_mask = tf.keras.layers.Input(shape=(max_length,), dtype=tf.int32, name=\"attention_mask\")\n",
    "\n",
    "    # Kapselung der BERT-Schicht in eine Lambda-Schicht\n",
    "    bert_output = tf.keras.layers.Lambda(lambda x: bert_base(input_ids=x[0], attention_mask=x[1]))([input_ids, attention_mask])\n",
    "\n",
    "    pooled_output = bert_output.pooler_output  # Verdichtete Repräsentation\n",
    "\n",
    "    # Dichte Schicht für Klassifikation\n",
    "    x = tf.keras.layers.Dropout(0.3)(pooled_output)\n",
    "    x = tf.keras.layers.Dense(64, activation=\"relu\")(x)\n",
    "    output = tf.keras.layers.Dense(1, activation=\"sigmoid\")(x)\n",
    "\n",
    "    # Modell erstellen\n",
    "    model = tf.keras.Model(inputs=[input_ids, attention_mask], outputs=output)\n",
    "    model.compile(optimizer=tf.keras.optimizers.Adam(learning_rate=2e-5),\n",
    "                  loss=\"binary_crossentropy\",\n",
    "                  metrics=[\"accuracy\"])\n",
    "    return model\n",
    "\n",
    "# Modell erstellen\n",
    "model = build_bert_model()\n",
    "model.summary()\n"
   ]
  },
  {
   "cell_type": "code",
   "execution_count": null,
   "id": "7462cfdf-31fa-43fd-a9f4-1fa0db7876e7",
   "metadata": {},
   "outputs": [],
   "source": []
  }
 ],
 "metadata": {
  "kernelspec": {
   "display_name": "my-env",
   "language": "python",
   "name": "my-env"
  },
  "language_info": {
   "codemirror_mode": {
    "name": "ipython",
    "version": 3
   },
   "file_extension": ".py",
   "mimetype": "text/x-python",
   "name": "python",
   "nbconvert_exporter": "python",
   "pygments_lexer": "ipython3",
   "version": "3.12.3"
  }
 },
 "nbformat": 4,
 "nbformat_minor": 5
}
