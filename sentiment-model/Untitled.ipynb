{
 "cells": [
  {
   "cell_type": "markdown",
   "id": "617182d0-196e-448b-a2c9-16ed4f9cba2a",
   "metadata": {},
   "source": [
    "## Sentiment Analysis \n",
    "\n",
    "### Using the IMDb review dataset to train a model for sentiment analysis"
   ]
  },
  {
   "cell_type": "code",
   "execution_count": null,
   "id": "7b2c8df6-537f-4e9f-bd36-8c9663b32afd",
   "metadata": {},
   "outputs": [],
   "source": []
  },
  {
   "cell_type": "code",
   "execution_count": 2,
   "id": "3f63c840-d12f-433c-ae6e-4f5ce8c64a70",
   "metadata": {
    "editable": true,
    "slideshow": {
     "slide_type": ""
    },
    "tags": []
   },
   "outputs": [
    {
     "name": "stderr",
     "output_type": "stream",
     "text": [
      "2025-03-25 06:18:19.554573: I external/local_xla/xla/tsl/cuda/cudart_stub.cc:32] Could not find cuda drivers on your machine, GPU will not be used.\n",
      "2025-03-25 06:18:19.559448: I external/local_xla/xla/tsl/cuda/cudart_stub.cc:32] Could not find cuda drivers on your machine, GPU will not be used.\n",
      "2025-03-25 06:18:19.573535: E external/local_xla/xla/stream_executor/cuda/cuda_fft.cc:467] Unable to register cuFFT factory: Attempting to register factory for plugin cuFFT when one has already been registered\n",
      "WARNING: All log messages before absl::InitializeLog() is called are written to STDERR\n",
      "E0000 00:00:1742879899.597580    9512 cuda_dnn.cc:8579] Unable to register cuDNN factory: Attempting to register factory for plugin cuDNN when one has already been registered\n",
      "E0000 00:00:1742879899.604546    9512 cuda_blas.cc:1407] Unable to register cuBLAS factory: Attempting to register factory for plugin cuBLAS when one has already been registered\n",
      "W0000 00:00:1742879899.623393    9512 computation_placer.cc:177] computation placer already registered. Please check linkage and avoid linking the same target more than once.\n",
      "W0000 00:00:1742879899.623414    9512 computation_placer.cc:177] computation placer already registered. Please check linkage and avoid linking the same target more than once.\n",
      "W0000 00:00:1742879899.623417    9512 computation_placer.cc:177] computation placer already registered. Please check linkage and avoid linking the same target more than once.\n",
      "W0000 00:00:1742879899.623419    9512 computation_placer.cc:177] computation placer already registered. Please check linkage and avoid linking the same target more than once.\n",
      "2025-03-25 06:18:19.629695: I tensorflow/core/platform/cpu_feature_guard.cc:210] This TensorFlow binary is optimized to use available CPU instructions in performance-critical operations.\n",
      "To enable the following instructions: AVX2 FMA, in other operations, rebuild TensorFlow with the appropriate compiler flags.\n"
     ]
    }
   ],
   "source": [
    "import tensorflow_datasets as tfds\n",
    "import tensorflow as tf"
   ]
  },
  {
   "cell_type": "code",
   "execution_count": 3,
   "id": "03395e1a-21cd-41d5-8842-36c27625262f",
   "metadata": {},
   "outputs": [
    {
     "name": "stderr",
     "output_type": "stream",
     "text": [
      "2025-03-25 06:18:23.542413: E external/local_xla/xla/stream_executor/cuda/cuda_platform.cc:51] failed call to cuInit: INTERNAL: CUDA error: Failed call to cuInit: UNKNOWN ERROR (303)\n"
     ]
    }
   ],
   "source": [
    "datasets, info = tfds.load(\"imdb_reviews\", as_supervised=True, with_info=True)"
   ]
  },
  {
   "cell_type": "code",
   "execution_count": null,
   "id": "3726f51b-a0ed-4d0a-b7db-9be94e0bf7c0",
   "metadata": {},
   "outputs": [],
   "source": []
  },
  {
   "cell_type": "code",
   "execution_count": 4,
   "id": "11e6514d-63de-44c6-a1e2-a35b55129d7c",
   "metadata": {},
   "outputs": [],
   "source": [
    "from src.review_learn import create_train_test_val, load_glove_embeddings"
   ]
  },
  {
   "cell_type": "code",
   "execution_count": 5,
   "id": "0d0c58a4-1591-44dd-bc5a-88b943da390f",
   "metadata": {},
   "outputs": [],
   "source": [
    "train_set, test_set, val_set = create_train_test_val(datasets, validation_fraction=0.2)"
   ]
  },
  {
   "cell_type": "code",
   "execution_count": 6,
   "id": "315b5e48-c1da-4d6b-85bd-49128c90dada",
   "metadata": {},
   "outputs": [],
   "source": [
    "from src.review_stats import print_stats_of_texts, print_text_stats, TextStatisticUtils"
   ]
  },
  {
   "cell_type": "code",
   "execution_count": 7,
   "id": "ebd069f2-821a-4eab-ae0a-b4f9b0ac799c",
   "metadata": {},
   "outputs": [
    {
     "data": {
      "text/plain": [
       "<_TakeDataset element_spec=(TensorSpec(shape=(), dtype=tf.string, name=None), TensorSpec(shape=(), dtype=tf.int64, name=None))>"
      ]
     },
     "execution_count": 7,
     "metadata": {},
     "output_type": "execute_result"
    }
   ],
   "source": [
    "train_set"
   ]
  },
  {
   "cell_type": "code",
   "execution_count": 8,
   "id": "5857be5b-ce97-4de3-b2e8-82b1a6ab9c27",
   "metadata": {},
   "outputs": [],
   "source": [
    "from src.lookup_table_creator import LookupTableCreator"
   ]
  },
  {
   "cell_type": "code",
   "execution_count": 15,
   "id": "d48e4177-be9b-4a20-aae2-8090bf4b1db7",
   "metadata": {},
   "outputs": [],
   "source": [
    "#table_creator = LookupTableCreator()"
   ]
  },
  {
   "cell_type": "code",
   "execution_count": 16,
   "id": "6b3d2f8f-618d-4af8-bce2-060d76ebe1b3",
   "metadata": {},
   "outputs": [],
   "source": [
    "import json\n",
    "#load lookup table from json\n",
    "with open(\"lookup_table.json\", \"r\") as file:\n",
    "    loaded_dict = json.load(file)\n",
    "#make string keys to byte strings\n",
    "lookup_dict_bytes = {key.encode(\"utf-8\"): value for key, value in loaded_dict.items()}\n",
    "\n",
    "vocabs = tf.constant(list(lookup_dict_bytes.keys()))\n",
    "values = tf.constant(list(lookup_dict_bytes.values()), dtype= tf.int64)\n",
    "\n",
    "init = tf.lookup.KeyValueTensorInitializer(vocabs, values)\n",
    "table = tf.lookup.StaticVocabularyTable(init, num_oov_buckets=1000)"
   ]
  },
  {
   "cell_type": "code",
   "execution_count": 17,
   "id": "aef1f050-7685-405d-b811-97032048a731",
   "metadata": {},
   "outputs": [],
   "source": [
    "#table = table_creator.create_lookup_table(train_set, 10000, 1000, 32)"
   ]
  },
  {
   "cell_type": "code",
   "execution_count": 18,
   "id": "f8db58f3-fca0-42b3-b474-b4223477c8cb",
   "metadata": {},
   "outputs": [],
   "source": [
    "#import json \n",
    "#lookup_dict = {word.decode('utf-8'): int(value.numpy()) for word, value in zip(table_creator.get_words().numpy(), table_creator.get_word_ids())}\n",
    "#with open('lookup_table.json', \"w\") as file:\n",
    "#    json.dump(lookup_dict, file)"
   ]
  },
  {
   "cell_type": "code",
   "execution_count": 19,
   "id": "0b14ac59-dfa7-4318-9246-ef7f76a68a7d",
   "metadata": {},
   "outputs": [],
   "source": [
    "from src.text_preprocessing import ReviewPreprocessor"
   ]
  },
  {
   "cell_type": "code",
   "execution_count": 20,
   "id": "69f4c949-eff7-473c-8873-bf60937c6f2b",
   "metadata": {},
   "outputs": [],
   "source": [
    "preprocessor = ReviewPreprocessor(10000, 1000, table, batch_size=32, maxlen=200)"
   ]
  },
  {
   "cell_type": "code",
   "execution_count": 21,
   "id": "899ab439-e30b-49d7-96c7-6b1d69c67e88",
   "metadata": {},
   "outputs": [],
   "source": [
    "#embeddings = load_glove_embeddings('embeddings/glove.6B.100d.txt', tf.keras.datasets.imdb.get_word_index(), vocab_size=10000, embed_size=128, num_oov_buckets=1000)"
   ]
  },
  {
   "cell_type": "code",
   "execution_count": 22,
   "id": "205c55ff-96eb-4203-b827-e6a466119a8a",
   "metadata": {},
   "outputs": [],
   "source": [
    "train_data, test_data, validation_data = preprocessor.prepare_data_set(train_set), preprocessor.prepare_data_set(test_set), preprocessor.prepare_data_set(val_set)"
   ]
  },
  {
   "cell_type": "code",
   "execution_count": 23,
   "id": "f4395237-f111-419f-a462-e293d7a8d539",
   "metadata": {},
   "outputs": [],
   "source": [
    "reviewStats = TextStatisticUtils(train_set=train_set, test_set=test_set, val_set=val_set)"
   ]
  },
  {
   "cell_type": "code",
   "execution_count": 24,
   "id": "a6903b0b-ef80-48f3-90a8-c8a2b7fa3e92",
   "metadata": {},
   "outputs": [
    {
     "name": "stderr",
     "output_type": "stream",
     "text": [
      "2025-03-25 06:20:02.492876: I tensorflow/core/kernels/data/tf_record_dataset_op.cc:387] The default buffer size is 262144, which is overridden by the user specified `buffer_size` of 8388608\n",
      "2025-03-25 06:20:08.445624: I tensorflow/core/framework/local_rendezvous.cc:407] Local rendezvous is aborting with status: OUT_OF_RANGE: End of sequence\n"
     ]
    },
    {
     "name": "stdout",
     "output_type": "stream",
     "text": [
      "Statistics of Train Data: \n",
      "    | Average text length: 1323.40815 \n",
      "    | Median text length: 977.0\n",
      "    | Minimum text length: 64\n",
      "    | Maximum text length: 13704\n",
      "     \n"
     ]
    },
    {
     "name": "stderr",
     "output_type": "stream",
     "text": [
      "2025-03-25 06:20:15.732289: I tensorflow/core/framework/local_rendezvous.cc:407] Local rendezvous is aborting with status: OUT_OF_RANGE: End of sequence\n"
     ]
    },
    {
     "name": "stdout",
     "output_type": "stream",
     "text": [
      "Statistics of Test Data: \n",
      "    | Average text length: 1293.7924 \n",
      "    | Median text length: 962.0\n",
      "    | Minimum text length: 32\n",
      "    | Maximum text length: 12988\n",
      "     \n",
      "Statistics of Validation Data: \n",
      "    | Average text length: 1331.7156 \n",
      "    | Median text length: 986.5\n",
      "    | Minimum text length: 52\n",
      "    | Maximum text length: 7731\n",
      "     \n"
     ]
    }
   ],
   "source": [
    "reviewStats.print_all_text_stats()"
   ]
  },
  {
   "cell_type": "code",
   "execution_count": 26,
   "id": "fee08a2f-1631-4412-8db2-cbbb1f624b8e",
   "metadata": {},
   "outputs": [],
   "source": [
    "#reviewStats.draw_class_dists()"
   ]
  },
  {
   "cell_type": "code",
   "execution_count": 27,
   "id": "06652e7d-fd64-45d0-b25d-f94e47b77cc5",
   "metadata": {},
   "outputs": [
    {
     "name": "stdout",
     "output_type": "stream",
     "text": [
      "(32, 200)\n"
     ]
    }
   ],
   "source": [
    "for x_batch, y_batch in train_data.take(1):\n",
    "    print(f\"{x_batch.shape}\")"
   ]
  },
  {
   "cell_type": "code",
   "execution_count": 28,
   "id": "c94e658f-7cc8-4477-80eb-e6a23764a076",
   "metadata": {},
   "outputs": [],
   "source": [
    "# Attention Layer Definition\n",
    "class Attention(tf.keras.layers.Layer):\n",
    "    def __init__(self):\n",
    "        super(Attention, self).__init__()\n",
    "\n",
    "    def call(self, inputs):\n",
    "        # Energie-Werte berechnen (Dot-Produkt der Inputs mit sich selbst)\n",
    "        score = tf.matmul(inputs, inputs, transpose_b=True)\n",
    "        \n",
    "        # Softmax über die Scores zur Normalisierung\n",
    "        attention_weights = tf.nn.softmax(score, axis=-1)\n",
    "        \n",
    "        # Kontextvektor als gewichtete Summe der Eingaben\n",
    "        context_vector = tf.matmul(attention_weights, inputs)\n",
    "        \n",
    "        return context_vector"
   ]
  },
  {
   "cell_type": "code",
   "execution_count": 29,
   "id": "d41309a4-5acb-48eb-ab4f-625aba677f5d",
   "metadata": {},
   "outputs": [],
   "source": [
    "from tensorflow.keras.regularizers import l2\n",
    "\n",
    "\n",
    "def build_model(n_hidden=2, embed_size=128, vocab_size=10000, num_oov_buckets=1000, dropout_rate=0.3, embedding_matrix=None):\n",
    "    model = tf.keras.models.Sequential()\n",
    "\n",
    "    model.add(tf.keras.layers.Embedding(input_dim=vocab_size + num_oov_buckets, output_dim=embed_size))\n",
    "    # 1D Convolutional Layer (Extrahiert lokale Merkmale)\n",
    "    model.add(tf.keras.layers.Conv1D(filters=64, kernel_size=5, activation=\"relu\", padding=\"same\"))\n",
    "    ##model.add(tf.keras.layers.BatchNormalization())\n",
    "    model.add(tf.keras.layers.MaxPooling1D(pool_size=2))\n",
    "    for hidden in range(n_hidden):\n",
    "        model.add(\n",
    "            tf.keras.layers.Bidirectional(tf.keras.layers.GRU(128, return_sequences=True, dropout=dropout_rate)))\n",
    "    #model.add(tf.keras.layers.Bidirectional(tf.keras.layers.GRU(64)))\n",
    "    \n",
    "    # Attention Layer\n",
    "    model.add(Attention())\n",
    "    model.add(tf.keras.layers.GlobalAveragePooling1D())\n",
    "    \n",
    "    model.add(tf.keras.layers.Dropout(dropout_rate))\n",
    "    model.add(tf.keras.layers.Dense(64, activation=\"relu\", kernel_regularizer=l2(0.01)))\n",
    "    #model.add(tf.keras.layers.Dropout(dropout_rate))\n",
    "    model.add(tf.keras.layers.Dense(1, activation=\"sigmoid\"))\n",
    "    model.compile(loss=\"binary_crossentropy\", optimizer=tf.keras.optimizers.Adam(learning_rate=0.00025),\n",
    "                  metrics=[\"accuracy\"])\n",
    "    return model"
   ]
  },
  {
   "cell_type": "code",
   "execution_count": 30,
   "id": "adb4cde6-80c5-4aa4-b34d-2de23e19aacc",
   "metadata": {},
   "outputs": [],
   "source": [
    "lr_scheduler = tf.keras.callbacks.ReduceLROnPlateau(monitor=\"val_loss\", factor=0.5, patience=2)"
   ]
  },
  {
   "cell_type": "code",
   "execution_count": 31,
   "id": "d09d7d8f-ea8e-44e5-aba3-b12f2c7843b8",
   "metadata": {},
   "outputs": [],
   "source": [
    "model = build_model(n_hidden=1, vocab_size=10000, num_oov_buckets=1000, embed_size=128, dropout_rate=0.6)"
   ]
  },
  {
   "cell_type": "code",
   "execution_count": 32,
   "id": "ac23b3e0-c88d-4bce-aca4-89b53440ae20",
   "metadata": {},
   "outputs": [
    {
     "name": "stdout",
     "output_type": "stream",
     "text": [
      "Epoch 1/15\n",
      "\u001b[1m625/625\u001b[0m \u001b[32m━━━━━━━━━━━━━━━━━━━━\u001b[0m\u001b[37m\u001b[0m \u001b[1m108s\u001b[0m 163ms/step - accuracy: 0.5649 - loss: 1.1876 - val_accuracy: 0.8444 - val_loss: 0.3952 - learning_rate: 2.5000e-04\n",
      "Epoch 2/15\n",
      "\u001b[1m625/625\u001b[0m \u001b[32m━━━━━━━━━━━━━━━━━━━━\u001b[0m\u001b[37m\u001b[0m \u001b[1m102s\u001b[0m 163ms/step - accuracy: 0.8568 - loss: 0.3705 - val_accuracy: 0.8636 - val_loss: 0.3367 - learning_rate: 2.5000e-04\n",
      "Epoch 3/15\n",
      "\u001b[1m625/625\u001b[0m \u001b[32m━━━━━━━━━━━━━━━━━━━━\u001b[0m\u001b[37m\u001b[0m \u001b[1m103s\u001b[0m 165ms/step - accuracy: 0.9027 - loss: 0.2599 - val_accuracy: 0.8628 - val_loss: 0.3478 - learning_rate: 2.5000e-04\n",
      "Epoch 4/15\n",
      "\u001b[1m625/625\u001b[0m \u001b[32m━━━━━━━━━━━━━━━━━━━━\u001b[0m\u001b[37m\u001b[0m \u001b[1m102s\u001b[0m 163ms/step - accuracy: 0.9276 - loss: 0.2004 - val_accuracy: 0.8570 - val_loss: 0.3691 - learning_rate: 2.5000e-04\n",
      "Epoch 5/15\n",
      "\u001b[1m625/625\u001b[0m \u001b[32m━━━━━━━━━━━━━━━━━━━━\u001b[0m\u001b[37m\u001b[0m \u001b[1m103s\u001b[0m 164ms/step - accuracy: 0.9493 - loss: 0.1490 - val_accuracy: 0.8578 - val_loss: 0.4116 - learning_rate: 1.2500e-04\n",
      "Epoch 6/15\n",
      "\u001b[1m625/625\u001b[0m \u001b[32m━━━━━━━━━━━━━━━━━━━━\u001b[0m\u001b[37m\u001b[0m \u001b[1m101s\u001b[0m 161ms/step - accuracy: 0.9621 - loss: 0.1160 - val_accuracy: 0.8540 - val_loss: 0.4506 - learning_rate: 1.2500e-04\n",
      "Epoch 7/15\n",
      "\u001b[1m625/625\u001b[0m \u001b[32m━━━━━━━━━━━━━━━━━━━━\u001b[0m\u001b[37m\u001b[0m \u001b[1m101s\u001b[0m 161ms/step - accuracy: 0.9722 - loss: 0.0946 - val_accuracy: 0.8552 - val_loss: 0.4666 - learning_rate: 6.2500e-05\n"
     ]
    }
   ],
   "source": [
    "history = model.fit(train_data, validation_data=validation_data, epochs=15, callbacks=[tf.keras.callbacks.ModelCheckpoint('sentiment_model.keras', save_best_only=True), \n",
    "                                                                                      tf.keras.callbacks.EarlyStopping(patience=5, restore_best_weights=True),\n",
    "                                                                                lr_scheduler])"
   ]
  },
  {
   "cell_type": "code",
   "execution_count": null,
   "id": "f0f399cc-105f-4d06-8d16-1ea1185fd07f",
   "metadata": {},
   "outputs": [],
   "source": []
  },
  {
   "cell_type": "code",
   "execution_count": 39,
   "id": "d124eadd-caed-4982-b6be-95b1869d5e3b",
   "metadata": {},
   "outputs": [],
   "source": [
    "import matplotlib.pyplot as plt"
   ]
  },
  {
   "cell_type": "code",
   "execution_count": 40,
   "id": "4ddb371c-2a99-483d-9460-1c718ee22364",
   "metadata": {},
   "outputs": [
    {
     "data": {
      "image/png": "[encoded data removed]",
      "text/plain": [
       "<Figure size 640x480 with 1 Axes>"
      ]
     },
     "metadata": {},
     "output_type": "display_data"
    }
   ],
   "source": [
    "accuracy, val_accuracy, loss, val_loss = history.history[\"accuracy\"], history.history[\"val_accuracy\"], history.history[\"loss\"], history.history[\"val_loss\"]\n",
    "plt.plot(accuracy, label='accuracy')\n",
    "plt.plot(val_accuracy, label=\"val_accuracy\")\n",
    "plt.plot(loss, label=\"loss\")\n",
    "plt.plot(val_loss, label=\"val_loss\")\n",
    "plt.xlabel('Epoch')\n",
    "plt.ylabel('Accuracy')\n",
    "plt.legend()\n",
    "plt.title('Accuracy history during training')\n",
    "plt.show()"
   ]
  },
  {
   "cell_type": "code",
   "execution_count": 41,
   "id": "7de0d36e-33d8-4deb-b7cb-15c6fe90f5eb",
   "metadata": {},
   "outputs": [
    {
     "name": "stdout",
     "output_type": "stream",
     "text": [
      "\u001b[1m782/782\u001b[0m \u001b[32m━━━━━━━━━━━━━━━━━━━━\u001b[0m\u001b[37m\u001b[0m \u001b[1m31s\u001b[0m 40ms/step - accuracy: 0.8440 - loss: 0.4036\n"
     ]
    },
    {
     "data": {
      "text/plain": [
       "[0.4003904163837433, 0.8429999947547913]"
      ]
     },
     "execution_count": 41,
     "metadata": {},
     "output_type": "execute_result"
    }
   ],
   "source": [
    "model.evaluate(test_data)    "
   ]
  },
  {
   "cell_type": "markdown",
   "id": "46db3e65-e29d-4636-b21f-3b4235407176",
   "metadata": {},
   "source": [
    "## "
   ]
  },
  {
   "cell_type": "code",
   "execution_count": null,
   "id": "7462cfdf-31fa-43fd-a9f4-1fa0db7876e7",
   "metadata": {},
   "outputs": [],
   "source": []
  }
 ],
 "metadata": {
  "kernelspec": {
   "display_name": "my-env",
   "language": "python",
   "name": "my-env"
  },
  "language_info": {
   "codemirror_mode": {
    "name": "ipython",
    "version": 3
   },
   "file_extension": ".py",
   "mimetype": "text/x-python",
   "name": "python",
   "nbconvert_exporter": "python",
   "pygments_lexer": "ipython3",
   "version": "3.12.3"
  }
 },
 "nbformat": 4,
 "nbformat_minor": 5
}
