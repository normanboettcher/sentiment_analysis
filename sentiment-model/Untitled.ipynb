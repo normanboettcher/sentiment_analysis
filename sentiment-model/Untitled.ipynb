{
 "cells": [
  {
   "cell_type": "markdown",
   "id": "617182d0-196e-448b-a2c9-16ed4f9cba2a",
   "metadata": {},
   "source": [
    "## Sentiment Analysis \n",
    "\n",
    "### Using the IMDb review dataset to train a model for sentiment analysis"
   ]
  },
  {
   "cell_type": "code",
   "execution_count": null,
   "id": "7b2c8df6-537f-4e9f-bd36-8c9663b32afd",
   "metadata": {},
   "outputs": [],
   "source": []
  },
  {
   "cell_type": "code",
   "execution_count": 1,
   "id": "3f63c840-d12f-433c-ae6e-4f5ce8c64a70",
   "metadata": {
    "editable": true,
    "slideshow": {
     "slide_type": ""
    },
    "tags": []
   },
   "outputs": [
    {
     "name": "stderr",
     "output_type": "stream",
     "text": [
      "2025-03-26 18:17:57.569014: I external/local_xla/xla/tsl/cuda/cudart_stub.cc:32] Could not find cuda drivers on your machine, GPU will not be used.\n",
      "2025-03-26 18:17:57.852939: I external/local_xla/xla/tsl/cuda/cudart_stub.cc:32] Could not find cuda drivers on your machine, GPU will not be used.\n",
      "2025-03-26 18:17:58.184122: E external/local_xla/xla/stream_executor/cuda/cuda_fft.cc:467] Unable to register cuFFT factory: Attempting to register factory for plugin cuFFT when one has already been registered\n",
      "WARNING: All log messages before absl::InitializeLog() is called are written to STDERR\n",
      "E0000 00:00:1743009478.439220    5911 cuda_dnn.cc:8579] Unable to register cuDNN factory: Attempting to register factory for plugin cuDNN when one has already been registered\n",
      "E0000 00:00:1743009478.488134    5911 cuda_blas.cc:1407] Unable to register cuBLAS factory: Attempting to register factory for plugin cuBLAS when one has already been registered\n",
      "W0000 00:00:1743009479.013169    5911 computation_placer.cc:177] computation placer already registered. Please check linkage and avoid linking the same target more than once.\n",
      "W0000 00:00:1743009479.013200    5911 computation_placer.cc:177] computation placer already registered. Please check linkage and avoid linking the same target more than once.\n",
      "W0000 00:00:1743009479.013203    5911 computation_placer.cc:177] computation placer already registered. Please check linkage and avoid linking the same target more than once.\n",
      "W0000 00:00:1743009479.013206    5911 computation_placer.cc:177] computation placer already registered. Please check linkage and avoid linking the same target more than once.\n",
      "2025-03-26 18:17:59.052414: I tensorflow/core/platform/cpu_feature_guard.cc:210] This TensorFlow binary is optimized to use available CPU instructions in performance-critical operations.\n",
      "To enable the following instructions: AVX2 FMA, in other operations, rebuild TensorFlow with the appropriate compiler flags.\n"
     ]
    }
   ],
   "source": [
    "import tensorflow_datasets as tfds\n",
    "import tensorflow as tf"
   ]
  },
  {
   "cell_type": "code",
   "execution_count": 2,
   "id": "03395e1a-21cd-41d5-8842-36c27625262f",
   "metadata": {},
   "outputs": [
    {
     "name": "stderr",
     "output_type": "stream",
     "text": [
      "2025-03-26 18:18:08.868496: E external/local_xla/xla/stream_executor/cuda/cuda_platform.cc:51] failed call to cuInit: INTERNAL: CUDA error: Failed call to cuInit: UNKNOWN ERROR (303)\n"
     ]
    }
   ],
   "source": [
    "datasets, info = tfds.load(\"imdb_reviews\", as_supervised=True, with_info=True)"
   ]
  },
  {
   "cell_type": "code",
   "execution_count": null,
   "id": "3726f51b-a0ed-4d0a-b7db-9be94e0bf7c0",
   "metadata": {},
   "outputs": [],
   "source": []
  },
  {
   "cell_type": "code",
   "execution_count": 3,
   "id": "11e6514d-63de-44c6-a1e2-a35b55129d7c",
   "metadata": {},
   "outputs": [],
   "source": [
    "from src.review_learn import create_train_test_val, load_glove_embeddings"
   ]
  },
  {
   "cell_type": "code",
   "execution_count": 4,
   "id": "0d0c58a4-1591-44dd-bc5a-88b943da390f",
   "metadata": {},
   "outputs": [],
   "source": [
    "train_set, test_set, val_set = create_train_test_val(datasets, validation_fraction=0.2)"
   ]
  },
  {
   "cell_type": "code",
   "execution_count": 5,
   "id": "315b5e48-c1da-4d6b-85bd-49128c90dada",
   "metadata": {},
   "outputs": [],
   "source": [
    "from src.review_stats import print_stats_of_texts, print_text_stats, TextStatisticUtils"
   ]
  },
  {
   "cell_type": "code",
   "execution_count": 6,
   "id": "ebd069f2-821a-4eab-ae0a-b4f9b0ac799c",
   "metadata": {},
   "outputs": [
    {
     "data": {
      "text/plain": [
       "<_TakeDataset element_spec=(TensorSpec(shape=(), dtype=tf.string, name=None), TensorSpec(shape=(), dtype=tf.int64, name=None))>"
      ]
     },
     "execution_count": 6,
     "metadata": {},
     "output_type": "execute_result"
    }
   ],
   "source": [
    "train_set"
   ]
  },
  {
   "cell_type": "code",
   "execution_count": 7,
   "id": "5857be5b-ce97-4de3-b2e8-82b1a6ab9c27",
   "metadata": {},
   "outputs": [],
   "source": [
    "#from src.lookup_table_creator import LookupTableCreator"
   ]
  },
  {
   "cell_type": "code",
   "execution_count": 8,
   "id": "d48e4177-be9b-4a20-aae2-8090bf4b1db7",
   "metadata": {},
   "outputs": [],
   "source": [
    "#table_creator = LookupTableCreator()"
   ]
  },
  {
   "cell_type": "code",
   "execution_count": 9,
   "id": "6b3d2f8f-618d-4af8-bce2-060d76ebe1b3",
   "metadata": {},
   "outputs": [],
   "source": [
    "import json\n",
    "#load lookup table from json\n",
    "with open(\"lookup_table.json\", \"r\") as file:\n",
    "    loaded_dict = json.load(file)\n",
    "#make string keys to byte strings\n",
    "lookup_dict_bytes = {key.encode(\"utf-8\"): value for key, value in loaded_dict.items()}\n",
    "\n",
    "vocabs = tf.constant(list(lookup_dict_bytes.keys()))\n",
    "values = tf.constant(list(lookup_dict_bytes.values()), dtype= tf.int64)\n",
    "\n",
    "init = tf.lookup.KeyValueTensorInitializer(vocabs, values)\n",
    "table = tf.lookup.StaticVocabularyTable(init, num_oov_buckets=1000)"
   ]
  },
  {
   "cell_type": "code",
   "execution_count": 10,
   "id": "aef1f050-7685-405d-b811-97032048a731",
   "metadata": {},
   "outputs": [],
   "source": [
    "#table = table_creator.create_lookup_table(train_set, 10000, 1000, 32)"
   ]
  },
  {
   "cell_type": "code",
   "execution_count": 11,
   "id": "f8db58f3-fca0-42b3-b474-b4223477c8cb",
   "metadata": {},
   "outputs": [],
   "source": [
    "#import json \n",
    "#lookup_dict = {word.decode('utf-8'): int(value.numpy()) for word, value in zip(table_creator.get_words().numpy(), table_creator.get_word_ids())}\n",
    "#with open('lookup_table.json', \"w\") as file:\n",
    "#    json.dump(lookup_dict, file)"
   ]
  },
  {
   "cell_type": "code",
   "execution_count": 12,
   "id": "0b14ac59-dfa7-4318-9246-ef7f76a68a7d",
   "metadata": {},
   "outputs": [],
   "source": [
    "from src.text_preprocessing import ReviewPreprocessor"
   ]
  },
  {
   "cell_type": "code",
   "execution_count": 13,
   "id": "69f4c949-eff7-473c-8873-bf60937c6f2b",
   "metadata": {},
   "outputs": [],
   "source": [
    "preprocessor = ReviewPreprocessor(10000, 1000, table, batch_size=32, maxlen=200)"
   ]
  },
  {
   "cell_type": "code",
   "execution_count": 14,
   "id": "899ab439-e30b-49d7-96c7-6b1d69c67e88",
   "metadata": {},
   "outputs": [],
   "source": [
    "#embeddings = load_glove_embeddings('embeddings/glove.6B.100d.txt', tf.keras.datasets.imdb.get_word_index(), vocab_size=10000, embed_size=128, num_oov_buckets=1000)"
   ]
  },
  {
   "cell_type": "code",
   "execution_count": 15,
   "id": "205c55ff-96eb-4203-b827-e6a466119a8a",
   "metadata": {},
   "outputs": [],
   "source": [
    "train_data, test_data, validation_data = preprocessor.prepare_data_set(train_set), preprocessor.prepare_data_set(test_set), preprocessor.prepare_data_set(val_set)"
   ]
  },
  {
   "cell_type": "code",
   "execution_count": 16,
   "id": "f4395237-f111-419f-a462-e293d7a8d539",
   "metadata": {},
   "outputs": [],
   "source": [
    "reviewStats = TextStatisticUtils(train_set=train_set, test_set=test_set, val_set=val_set)"
   ]
  },
  {
   "cell_type": "code",
   "execution_count": 17,
   "id": "a6903b0b-ef80-48f3-90a8-c8a2b7fa3e92",
   "metadata": {},
   "outputs": [
    {
     "name": "stderr",
     "output_type": "stream",
     "text": [
      "2025-03-26 18:18:10.704442: I tensorflow/core/kernels/data/tf_record_dataset_op.cc:387] The default buffer size is 262144, which is overridden by the user specified `buffer_size` of 8388608\n",
      "2025-03-26 18:18:16.752145: I tensorflow/core/framework/local_rendezvous.cc:407] Local rendezvous is aborting with status: OUT_OF_RANGE: End of sequence\n"
     ]
    },
    {
     "name": "stdout",
     "output_type": "stream",
     "text": [
      "Statistics of Train Data: \n",
      "    | Average text length: 1322.58535 \n",
      "    | Median text length: 978.0\n",
      "    | Minimum text length: 65\n",
      "    | Maximum text length: 10321\n",
      "     \n"
     ]
    },
    {
     "name": "stderr",
     "output_type": "stream",
     "text": [
      "2025-03-26 18:18:23.962996: I tensorflow/core/framework/local_rendezvous.cc:407] Local rendezvous is aborting with status: OUT_OF_RANGE: End of sequence\n"
     ]
    },
    {
     "name": "stdout",
     "output_type": "stream",
     "text": [
      "Statistics of Test Data: \n",
      "    | Average text length: 1293.7924 \n",
      "    | Median text length: 962.0\n",
      "    | Minimum text length: 32\n",
      "    | Maximum text length: 12988\n",
      "     \n",
      "Statistics of Validation Data: \n",
      "    | Average text length: 1335.0068 \n",
      "    | Median text length: 982.0\n",
      "    | Minimum text length: 52\n",
      "    | Maximum text length: 13704\n",
      "     \n"
     ]
    }
   ],
   "source": [
    "reviewStats.print_all_text_stats()"
   ]
  },
  {
   "cell_type": "code",
   "execution_count": null,
   "id": "fee08a2f-1631-4412-8db2-cbbb1f624b8e",
   "metadata": {},
   "outputs": [],
   "source": []
  },
  {
   "cell_type": "code",
   "execution_count": 18,
   "id": "06652e7d-fd64-45d0-b25d-f94e47b77cc5",
   "metadata": {},
   "outputs": [
    {
     "name": "stdout",
     "output_type": "stream",
     "text": [
      "(32, 200)\n"
     ]
    },
    {
     "name": "stderr",
     "output_type": "stream",
     "text": [
      "2025-03-26 18:18:31.563667: I tensorflow/core/framework/local_rendezvous.cc:407] Local rendezvous is aborting with status: OUT_OF_RANGE: End of sequence\n"
     ]
    }
   ],
   "source": [
    "for x_batch, y_batch in train_data.take(1):\n",
    "    print(f\"{x_batch.shape}\")"
   ]
  },
  {
   "cell_type": "code",
   "execution_count": 25,
   "id": "c94e658f-7cc8-4477-80eb-e6a23764a076",
   "metadata": {},
   "outputs": [],
   "source": [
    "# Attention Layer Definition\n",
    "from tensorflow import keras\n",
    "from keras.saving import register_keras_serializable\n",
    "\n",
    "@register_keras_serializable(package=\"CustomLayers\")\n",
    "class Attention(tf.keras.layers.Layer):\n",
    "    def __init__(self, name=None, **kwargs):\n",
    "        super(Attention, self).__init__(name=name, **kwargs)\n",
    "\n",
    "    def call(self, inputs):\n",
    "        # Energie-Werte berechnen (Dot-Produkt der Inputs mit sich selbst)\n",
    "        score = tf.matmul(inputs, inputs, transpose_b=True)\n",
    "        \n",
    "        # Softmax über die Scores zur Normalisierung\n",
    "        attention_weights = tf.nn.softmax(score, axis=-1)\n",
    "        \n",
    "        # Kontextvektor als gewichtete Summe der Eingaben\n",
    "        context_vector = tf.matmul(attention_weights, inputs)\n",
    "        \n",
    "        return context_vector\n",
    "   \n",
    "    def get_config(self):\n",
    "        config = super().get_config()  # Hole die Basiskonfiguration\n",
    "        return config\n",
    "\n",
    "    @classmethod\n",
    "    def from_config(cls, config):\n",
    "        return cls(**config)\n",
    "    "
   ]
  },
  {
   "cell_type": "code",
   "execution_count": 26,
   "id": "d41309a4-5acb-48eb-ab4f-625aba677f5d",
   "metadata": {},
   "outputs": [],
   "source": [
    "from tensorflow.keras.regularizers import l2\n",
    "\n",
    "\n",
    "def build_model(n_hidden=2, embed_size=128, vocab_size=10000, num_oov_buckets=1000, dropout_rate=0.3, embedding_matrix=None):\n",
    "    model = tf.keras.models.Sequential()\n",
    "\n",
    "    model.add(tf.keras.layers.Embedding(input_dim=vocab_size + num_oov_buckets, output_dim=embed_size))\n",
    "    # 1D Convolutional Layer (Extrahiert lokale Merkmale)\n",
    "    model.add(tf.keras.layers.Conv1D(filters=64, kernel_size=5, activation=\"relu\", padding=\"same\"))\n",
    "    ##model.add(tf.keras.layers.BatchNormalization())\n",
    "    model.add(tf.keras.layers.MaxPooling1D(pool_size=2))\n",
    "    for hidden in range(n_hidden):\n",
    "        model.add(\n",
    "            tf.keras.layers.Bidirectional(tf.keras.layers.GRU(128, return_sequences=True, dropout=dropout_rate)))\n",
    "    #model.add(tf.keras.layers.Bidirectional(tf.keras.layers.GRU(64)))\n",
    "    \n",
    "    # Attention Layer\n",
    "    model.add(Attention())\n",
    "    model.add(tf.keras.layers.GlobalAveragePooling1D())\n",
    "    \n",
    "    model.add(tf.keras.layers.Dropout(dropout_rate))\n",
    "    model.add(tf.keras.layers.Dense(64, activation=\"relu\", kernel_regularizer=l2(0.01)))\n",
    "    model.add(tf.keras.layers.Dropout(dropout_rate))\n",
    "    model.add(tf.keras.layers.Dense(1, activation=\"sigmoid\"))\n",
    "    model.compile(loss=\"binary_crossentropy\", optimizer=tf.keras.optimizers.Adam(learning_rate=0.00025),\n",
    "                  metrics=[\"accuracy\"])\n",
    "    return model"
   ]
  },
  {
   "cell_type": "code",
   "execution_count": 27,
   "id": "adb4cde6-80c5-4aa4-b34d-2de23e19aacc",
   "metadata": {},
   "outputs": [],
   "source": [
    "lr_scheduler = tf.keras.callbacks.ReduceLROnPlateau(monitor=\"val_loss\", factor=0.5, patience=2)"
   ]
  },
  {
   "cell_type": "code",
   "execution_count": 28,
   "id": "d09d7d8f-ea8e-44e5-aba3-b12f2c7843b8",
   "metadata": {},
   "outputs": [],
   "source": [
    "model = build_model(n_hidden=1, vocab_size=10000, num_oov_buckets=1000, embed_size=128, dropout_rate=0.6)"
   ]
  },
  {
   "cell_type": "code",
   "execution_count": 42,
   "id": "ac23b3e0-c88d-4bce-aca4-89b53440ae20",
   "metadata": {},
   "outputs": [
    {
     "name": "stdout",
     "output_type": "stream",
     "text": [
      "Epoch 1/12\n",
      "\u001b[1m625/625\u001b[0m \u001b[32m━━━━━━━━━━━━━━━━━━━━\u001b[0m\u001b[37m\u001b[0m \u001b[1m106s\u001b[0m 162ms/step - accuracy: 0.8273 - loss: 0.4308 - val_accuracy: 0.8636 - val_loss: 0.3329 - learning_rate: 2.5000e-04\n",
      "Epoch 2/12\n",
      "\u001b[1m625/625\u001b[0m \u001b[32m━━━━━━━━━━━━━━━━━━━━\u001b[0m\u001b[37m\u001b[0m \u001b[1m99s\u001b[0m 158ms/step - accuracy: 0.8989 - loss: 0.2796 - val_accuracy: 0.8660 - val_loss: 0.3457 - learning_rate: 2.5000e-04\n",
      "Epoch 3/12\n",
      "\u001b[1m625/625\u001b[0m \u001b[32m━━━━━━━━━━━━━━━━━━━━\u001b[0m\u001b[37m\u001b[0m \u001b[1m99s\u001b[0m 158ms/step - accuracy: 0.9261 - loss: 0.2178 - val_accuracy: 0.8612 - val_loss: 0.4066 - learning_rate: 2.5000e-04\n",
      "Epoch 4/12\n",
      "\u001b[1m625/625\u001b[0m \u001b[32m━━━━━━━━━━━━━━━━━━━━\u001b[0m\u001b[37m\u001b[0m \u001b[1m99s\u001b[0m 158ms/step - accuracy: 0.9519 - loss: 0.1564 - val_accuracy: 0.8590 - val_loss: 0.4076 - learning_rate: 1.2500e-04\n"
     ]
    }
   ],
   "source": [
    "history = model.fit(train_data, validation_data=validation_data, epochs=12, callbacks=[tf.keras.callbacks.ModelCheckpoint('Sentiment-M7.keras', save_best_only=True), \n",
    "                                                                                      tf.keras.callbacks.EarlyStopping(patience=3, restore_best_weights=True),\n",
    "                                                                                lr_scheduler])"
   ]
  },
  {
   "cell_type": "code",
   "execution_count": null,
   "id": "f0f399cc-105f-4d06-8d16-1ea1185fd07f",
   "metadata": {},
   "outputs": [],
   "source": []
  },
  {
   "cell_type": "code",
   "execution_count": 43,
   "id": "d124eadd-caed-4982-b6be-95b1869d5e3b",
   "metadata": {},
   "outputs": [],
   "source": [
    "import matplotlib.pyplot as plt"
   ]
  },
  {
   "cell_type": "code",
   "execution_count": 44,
   "id": "4ddb371c-2a99-483d-9460-1c718ee22364",
   "metadata": {},
   "outputs": [
    {
     "data": {
      "image/png": "[encoded data removed]",
      "text/plain": [
       "<Figure size 640x480 with 1 Axes>"
      ]
     },
     "metadata": {},
     "output_type": "display_data"
    }
   ],
   "source": [
    "accuracy, val_accuracy, loss, val_loss = history.history[\"accuracy\"], history.history[\"val_accuracy\"], history.history[\"loss\"], history.history[\"val_loss\"]\n",
    "plt.plot(accuracy, label='accuracy')\n",
    "plt.plot(val_accuracy, label=\"val_accuracy\")\n",
    "plt.plot(loss, label=\"loss\")\n",
    "plt.plot(val_loss, label=\"val_loss\")\n",
    "plt.xlabel('Epoch')\n",
    "plt.ylabel('Accuracy')\n",
    "plt.legend()\n",
    "plt.title('Accuracy history during training')\n",
    "plt.show()"
   ]
  },
  {
   "cell_type": "code",
   "execution_count": 45,
   "id": "7de0d36e-33d8-4deb-b7cb-15c6fe90f5eb",
   "metadata": {},
   "outputs": [
    {
     "name": "stdout",
     "output_type": "stream",
     "text": [
      "\u001b[1m782/782\u001b[0m \u001b[32m━━━━━━━━━━━━━━━━━━━━\u001b[0m\u001b[37m\u001b[0m \u001b[1m30s\u001b[0m 39ms/step - accuracy: 0.8508 - loss: 0.3715\n"
     ]
    },
    {
     "data": {
      "text/plain": [
       "[0.36535370349884033, 0.8524799942970276]"
      ]
     },
     "execution_count": 45,
     "metadata": {},
     "output_type": "execute_result"
    }
   ],
   "source": [
    "model.evaluate(test_data)    "
   ]
  },
  {
   "cell_type": "markdown",
   "id": "46db3e65-e29d-4636-b21f-3b4235407176",
   "metadata": {},
   "source": [
    "## "
   ]
  },
  {
   "cell_type": "code",
   "execution_count": null,
   "id": "7462cfdf-31fa-43fd-a9f4-1fa0db7876e7",
   "metadata": {},
   "outputs": [],
   "source": []
  },
  {
   "cell_type": "code",
   "execution_count": 51,
   "id": "d0adfba5-de7e-4d38-90e2-03d461918972",
   "metadata": {},
   "outputs": [],
   "source": [
    "review = tf.data.Dataset.from_tensor_slices(([\"What a good movie\"], [10]))"
   ]
  },
  {
   "cell_type": "code",
   "execution_count": 52,
   "id": "280169d4-38f1-4f43-abcf-e4a94b2e6fd0",
   "metadata": {},
   "outputs": [],
   "source": [
    "from src.review_learn import preprocess\n",
    "review = preprocessor.prepare_data_set(review)"
   ]
  },
  {
   "cell_type": "code",
   "execution_count": 53,
   "id": "825e8c85-04c7-4a6d-8be6-f4e916d2c213",
   "metadata": {},
   "outputs": [
    {
     "data": {
      "text/plain": [
       "<_PrefetchDataset element_spec=(TensorSpec(shape=(None, None), dtype=tf.int32, name=None), TensorSpec(shape=(None,), dtype=tf.int32, name=None))>"
      ]
     },
     "execution_count": 53,
     "metadata": {},
     "output_type": "execute_result"
    }
   ],
   "source": [
    "review"
   ]
  },
  {
   "cell_type": "code",
   "execution_count": 54,
   "id": "604bdb4b-7a3b-4b77-9c95-90ad8a5cc076",
   "metadata": {},
   "outputs": [],
   "source": [
    "model = tf.keras.models.load_model('Sentiment-M7.keras', custom_objects={'Attention': Attention})"
   ]
  },
  {
   "cell_type": "code",
   "execution_count": 55,
   "id": "af5284e6-1448-440c-9f8a-c58ce516a31a",
   "metadata": {},
   "outputs": [
    {
     "name": "stdout",
     "output_type": "stream",
     "text": [
      "\u001b[1m1/1\u001b[0m \u001b[32m━━━━━━━━━━━━━━━━━━━━\u001b[0m\u001b[37m\u001b[0m \u001b[1m1s\u001b[0m 507ms/step\n"
     ]
    },
    {
     "data": {
      "text/plain": [
       "array([[0.70419526]], dtype=float32)"
      ]
     },
     "execution_count": 55,
     "metadata": {},
     "output_type": "execute_result"
    }
   ],
   "source": [
    "model.predict(review)"
   ]
  },
  {
   "cell_type": "code",
   "execution_count": 56,
   "id": "5f336da6-50c9-40be-88fe-87f1738892f3",
   "metadata": {},
   "outputs": [
    {
     "name": "stdout",
     "output_type": "stream",
     "text": [
      "\u001b[1m782/782\u001b[0m \u001b[32m━━━━━━━━━━━━━━━━━━━━\u001b[0m\u001b[37m\u001b[0m \u001b[1m31s\u001b[0m 39ms/step - accuracy: 0.8508 - loss: 0.3715\n"
     ]
    },
    {
     "data": {
      "text/plain": [
       "[0.36535370349884033, 0.8524799942970276]"
      ]
     },
     "execution_count": 56,
     "metadata": {},
     "output_type": "execute_result"
    }
   ],
   "source": [
    "model.evaluate(test_data)"
   ]
  },
  {
   "cell_type": "code",
   "execution_count": null,
   "id": "a994c14f-45e5-42bd-bd69-67b771f682bc",
   "metadata": {},
   "outputs": [],
   "source": []
  }
 ],
 "metadata": {
  "kernelspec": {
   "display_name": "my-env",
   "language": "python",
   "name": "my-env"
  },
  "language_info": {
   "codemirror_mode": {
    "name": "ipython",
    "version": 3
   },
   "file_extension": ".py",
   "mimetype": "text/x-python",
   "name": "python",
   "nbconvert_exporter": "python",
   "pygments_lexer": "ipython3",
   "version": "3.12.3"
  }
 },
 "nbformat": 4,
 "nbformat_minor": 5
}
